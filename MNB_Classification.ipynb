{
 "cells": [
  {
   "cell_type": "markdown",
   "id": "c34e69f9",
   "metadata": {
    "id": "c34e69f9"
   },
   "source": [
    "<h1 style=\"color:#032652 ; font-family:'Times New Roman' \"> Email Phishing Detection and Classification </h1>"
   ]
  },
  {
   "cell_type": "markdown",
   "id": "10350bce",
   "metadata": {
    "id": "10350bce"
   },
   "source": [
    "<h2 style=\"background:#F6FAFF; color:#053573 ; font-family:'Times New Roman'\"> <br>  Modeling with Multinomial Naive Bayes algorithm<br>\n",
    "</h2>"
   ]
  },
  {
   "cell_type": "markdown",
   "id": "de9c76fc",
   "metadata": {
    "id": "de9c76fc"
   },
   "source": [
    "> <p style=\" color:#032652 ; font-family:'Times New Roman'; font-size: 18px ;text-align: justify \"> Loading libraries and data </p>"
   ]
  },
  {
   "cell_type": "code",
   "execution_count": 1,
   "id": "57e53b31",
   "metadata": {
    "id": "57e53b31"
   },
   "outputs": [],
   "source": [
    "# Data Analysis and Manipulation libraries\n",
    "import numpy as np\n",
    "import pandas as pd\n",
    "\n",
    "# Data Visualization libraries\n",
    "import matplotlib.pyplot as plt\n",
    "import seaborn as sns\n",
    "\n",
    "# Miscellaneous libraries\n",
    "import warnings\n",
    "warnings.filterwarnings(\"ignore\")\n",
    "%matplotlib inline\n",
    "\n",
    "# Feature Engineering\n",
    "from keras.preprocessing.text import Tokenizer\n",
    "from keras.utils import pad_sequences\n",
    "from sklearn.preprocessing import LabelEncoder\n",
    "\n",
    "# Modeling\n",
    "from sklearn.model_selection import train_test_split\n",
    "from sklearn.feature_extraction.text import CountVectorizer\n",
    "from sklearn.naive_bayes import MultinomialNB\n",
    "from sklearn.metrics import accuracy_score, precision_score, recall_score, f1_score\n",
    "\n"
   ]
  },
  {
   "cell_type": "code",
   "execution_count": 2,
   "id": "cea7a29b",
   "metadata": {
    "colab": {
     "base_uri": "https://localhost:8080/",
     "height": 204
    },
    "id": "cea7a29b",
    "outputId": "bb8d217c-5dd6-49ab-86e1-2d9262e14824"
   },
   "outputs": [
    {
     "data": {
      "application/vnd.google.colaboratory.intrinsic+json": {
       "summary": "{\n  \"name\": \"df\",\n  \"rows\": 2969,\n  \"fields\": [\n    {\n      \"column\": \"Unnamed: 0\",\n      \"properties\": {\n        \"dtype\": \"number\",\n        \"std\": 857,\n        \"min\": 0,\n        \"max\": 2968,\n        \"num_unique_values\": 2969,\n        \"samples\": [\n          2398,\n          1222,\n          2403\n        ],\n        \"semantic_type\": \"\",\n        \"description\": \"\"\n      }\n    },\n    {\n      \"column\": \"label\",\n      \"properties\": {\n        \"dtype\": \"number\",\n        \"std\": 0,\n        \"min\": 0,\n        \"max\": 1,\n        \"num_unique_values\": 2,\n        \"samples\": [\n          0,\n          1\n        ],\n        \"semantic_type\": \"\",\n        \"description\": \"\"\n      }\n    },\n    {\n      \"column\": \"text\",\n      \"properties\": {\n        \"dtype\": \"string\",\n        \"num_unique_values\": 2937,\n        \"samples\": [\n          \"hello sent email ago qualify new mortgage could get little month bad credit problem pull cash refinance please click link free consultation mortgage broker start saving best regards dean brown email removal go http santasrates com st html\",\n          \"sally first allow express congratulations promotion following conversation structuring commodity logic initiatives greg piper last week think go looking projects remain disposal direction might want follow marc eichmann\"\n        ],\n        \"semantic_type\": \"\",\n        \"description\": \"\"\n      }\n    },\n    {\n      \"column\": \"word_sequences\",\n      \"properties\": {\n        \"dtype\": \"string\",\n        \"num_unique_values\": 2932,\n        \"samples\": [\n          \"['hello would', 'would like', 'like also', 'also highlight', 'highlight inclusion', 'inclusion zocor', 'zocor drug', 'drug help', 'help treat', 'treat cardiovascular', 'cardiovascular disease', 'disease eml', 'eml authors', 'authors application', 'application include', 'include students', 'students sandeep', 'sandeep kishore', 'kishore ben', 'ben herbstman', 'herbstman librarians', 'librarians helen', 'helen ann', 'ann brown', 'brown patricia', 'patricia mongelia', 'mongelia weill', 'weill cornell', 'cornell medical', 'medical college', 'college effort', 'effort completed', 'completed student', 'student led', 'led universities', 'universities allied', 'allied essential', 'essential medicines', 'medicines uaem', 'uaem weill', 'weill cornell', 'cornell rockefeller', 'rockefeller sloan', 'sloan kettering', 'kettering tri', 'tri institutional', 'institutional program', 'program group', 'group modena', 'modena italy', 'italy info', 'info best', 'best caroline', 'caroline gallant', 'gallant uaem', 'uaem mcgill', 'mcgill university', 'university new', 'new york', 'york world', 'world health', 'health organization', 'organization announced', 'announced last', 'last week', 'week move', 'move make', 'make life', 'life saving', 'saving blockbuster', 'blockbuster cholesterol', 'cholesterol lowering', 'lowering medicine', 'medicine zocor', 'zocor widely', 'widely available', 'available globally', 'globally committee', 'committee selection', 'selection use', 'use essential', 'essential medicines', 'medicines included', 'included generic', 'generic versions', 'versions blockbuster', 'blockbuster cholesterol', 'cholesterol lowering', 'lowering medicines', 'medicines referred', 'referred statins', 'statins available', 'available model', 'model list', 'list essential', 'essential medicines', 'medicines statins', 'statins proven', 'proven blockbuster', 'blockbuster medicines', 'medicines spot', 'spot best', 'best selling', 'selling medicines', 'medicines qualifying', 'qualifying model', 'model list', 'list statins', 'statins available', 'available drug', 'drug donation', 'donation united', 'united nations', 'nations un', 'un groups', 'groups major', 'major philanthropic', 'philanthropic foundations', 'foundations estimates', 'estimates heart', 'heart cardiovascular', 'cardiovascular disease', 'disease leading', 'leading cause', 'cause death', 'death globally', 'globally cardiovascular', 'cardiovascular disease', 'disease longer', 'longer western', 'western disease', 'disease nearly', 'nearly deaths', 'deaths heart', 'heart disease', 'disease poorest', 'poorest countries', 'countries developing', 'developing world', 'world despite', 'despite fast', 'fast maturing', 'maturing economies', 'economies countries', 'countries often', 'often lack', 'lack purchasing', 'purchasing power', 'power life', 'life saving', 'saving essential', 'essential medicines', 'medicines model', 'model list', 'list substantially', 'substantially improves', 'improves access', 'access medicines', 'medicines donor', 'donor agencies', 'agencies purchase', 'purchase medicines', 'medicines model', 'model list', 'list drug', 'drug donations', 'donations additional', 'additional non', 'non governmental', 'governmental organizations', 'organizations charities', 'charities clinton', 'clinton foundation', 'foundation use', 'use list', 'list guide', 'guide donations', 'donations certain', 'certain cases', 'cases pharmaceutical', 'pharmaceutical firms', 'firms offer', 'offer striking', 'striking price', 'price discounts', 'discounts essential', 'essential medicines', 'medicines model', 'model list', 'list used', 'used purchasing', 'purchasing list', 'list countries', 'countries limited', 'limited resources', 'resources helped', 'helped international', 'international expert', 'expert advice', 'advice setting', 'setting priorities', 'priorities purchasing', 'purchasing distributing', 'distributing essential', 'essential medicines', 'medicines authors', 'authors application', 'application include', 'include students', 'students sandeep', 'sandeep kishore', 'kishore ben', 'ben herbstman', 'herbstman librarians', 'librarians helen', 'helen ann', 'ann brown', 'brown patricia', 'patricia mongelia', 'mongelia weill', 'weill cornell', 'cornell medical', 'medical college', 'college effort', 'effort completed', 'completed student', 'student led', 'led universities', 'universities allied', 'allied essential', 'essential medicines', 'medicines uaem', 'uaem weill', 'weill cornell', 'cornell rockefeller', 'rockefeller sloan', 'sloan kettering', 'kettering tri', 'tri institutional', 'institutional program', 'program group', 'group modena', 'modena italy', 'italy international', 'international experts', 'experts supported', 'supported students', 'students work', 'work including', 'including srinath', 'srinath reddy', 'reddy india', 'india institute', 'institute medical', 'medical sciences', 'sciences derek', 'derek yach', 'yach previous', 'previous director', 'director rockefeller', 'rockefeller global', 'global health', 'health program', 'program former', 'former director', 'director program', 'program non', 'non communicable', 'communicable diseases', 'diseases jonathan', 'jonathan quick', 'quick former', 'former director', 'director essential', 'essential drugs', 'drugs program', 'program uaem', 'uaem international', 'international non', 'non profit', 'profit student', 'student group', 'group seeks', 'seeks leverage', 'leverage university', 'university resources', 'resources increase', 'increase access', 'access essential', 'essential medicines', 'medicines globally', 'globally particularly', 'particularly low', 'low income', 'income countries', 'countries april', 'april university', 'university students', 'students across', 'across come', 'come together', 'together national', 'national day', 'day action', 'action nda', 'nda demonstrate', 'demonstrate collective', 'collective power', 'power university', 'university students', 'students faculty', 'faculty improving', 'improving global', 'global public', 'public health', 'health contact', 'contact sunny', 'sunny kishore', 'kishore gmail', 'gmail com', 'com essential', 'essential medicines', 'medicines program', 'program established', 'established essential', 'essential medicines', 'medicines concept', 'concept limited', 'limited list', 'list essential', 'essential medicines', 'medicines meet', 'meet needs', 'needs vast', 'vast majority', 'majority population', 'population purchased', 'purchased made', 'made available', 'available everyone', 'everyone population', 'population money', 'money spent', 'spent purchasing', 'purchasing medicines', 'medicines one', 'one hundred', 'hundred fifty', 'fifty six', 'six countries', 'countries adopted', 'adopted concept', 'concept principle', 'principle expert', 'expert committee', 'committee advises', 'advises director', 'director general', 'general policies', 'policies issues', 'issues related', 'related essential', 'essential medicines', 'medicines regularly', 'regularly updates', 'updates model', 'model list', 'list essential', 'essential medicines', 'medicines show', 'show concept', 'concept implemented', 'implemented first', 'first model', 'model list', 'list contained', 'contained drugs', 'drugs years', 'years later', 'later contains', 'contains somewhat', 'somewhat model', 'model list', 'list used', 'used purchasing', 'purchasing list', 'list many', 'many countries', 'countries limited', 'limited resources', 'resources helped', 'helped international', 'international expert', 'expert advice', 'advice setting', 'setting priorities', 'priorities purchasing', 'purchasing essential', 'essential medicines', 'medicines donor', 'donor agencies', 'agencies unicef', 'unicef purchase', 'purchase medicines', 'medicines model', 'model list', 'list additional', 'additional non', 'non governmental', 'governmental organizations', 'organizations charities', 'charities use', 'use list', 'list guide', 'guide donations', 'donations program', 'program global', 'global impact', 'impact making', 'making essential', 'essential medicines', 'medicines available', 'available need', 'need apr', 'apr pm', 'pm aelaf', 'aelaf worku', 'worku wrote', 'wrote interesting', 'interesting changes', 'changes regarding', 'regarding epilepsy', 'epilepsy peds', 'peds formulations', 'formulations otherwise', 'otherwise report', 'report lean', 'lean respect', 'respect chronic', 'chronic disease', 'disease treatments', 'treatments list', 'list accompanying', 'accompanying press', 'press release', 'release http', 'http www', 'www int', 'int medicines', 'medicines news', 'news pdf', 'pdf http', 'http www', 'www int', 'int medicines', 'medicines publications', 'publications pdf', 'pdf aelaf', 'aelaf worku', 'worku medical', 'medical student', 'student iv', 'iv mount', 'mount sinai', 'sinai school', 'school medicine', 'medicine javascript', 'javascript parent', 'parent send', 'send smtp', 'smtp everything', 'everything really', 'really great', 'great inspiring', 'inspiring created', 'created individual', 'individual labor', 'labor freedom', 'freedom albert', 'albert einstein', 'einstein ip', 'ip health', 'health mailing', 'mailing list', 'list ip', 'ip health', 'health lists', 'lists essential', 'essential org', 'org http', 'http lists', 'lists essential', 'essential org', 'org mailman', 'mailman listinfo', 'listinfo ip', 'ip health', 'health ip', 'ip health', 'health mailing', 'mailing list', 'list ip', 'ip health', 'health lists', 'lists essential', 'essential org', 'org http', 'http lists', 'lists essential', 'essential org', 'org mailman', 'mailman listinfo', 'listinfo ip', 'ip health']\",\n          \"['dear valued', 'valued member', 'member time', 'time spring', 'spring discounts', 'discounts spring', 'spring discounts', 'discounts mycanadianpharmacy', 'mycanadianpharmacy buy', 'buy cheap', 'cheap canadian', 'canadian products', 'products save', 'save provide', 'provide high', 'high quality', 'quality products', 'products meeting', 'meeting pharmaceutical', 'pharmaceutical standards', 'standards really', 'really low', 'low prices', 'prices order', 'order mycanadianpharmacy', 'mycanadianpharmacy receive', 'receive discounts', 'discounts need', 'need buy', 'buy expensive', 'expensive american', 'american pharmaceutical', 'pharmaceutical products', 'products click', 'click herehttp', 'herehttp dresslie', 'dresslie hkgreat', 'hkgreat selection', 'selection pharmaceutical', 'pharmaceutical products', 'products risks', 'risks scammed', 'scammed receiving', 'receiving faked', 'faked products', 'products sincerely', 'sincerely alvin', 'alvin vinson']\"\n        ],\n        \"semantic_type\": \"\",\n        \"description\": \"\"\n      }\n    }\n  ]\n}",
       "type": "dataframe",
       "variable_name": "df"
      },
      "text/html": [
       "\n",
       "  <div id=\"df-047f320e-1d7c-4bc6-b9f3-34bd5d9317c9\" class=\"colab-df-container\">\n",
       "    <div>\n",
       "<style scoped>\n",
       "    .dataframe tbody tr th:only-of-type {\n",
       "        vertical-align: middle;\n",
       "    }\n",
       "\n",
       "    .dataframe tbody tr th {\n",
       "        vertical-align: top;\n",
       "    }\n",
       "\n",
       "    .dataframe thead th {\n",
       "        text-align: right;\n",
       "    }\n",
       "</style>\n",
       "<table border=\"1\" class=\"dataframe\">\n",
       "  <thead>\n",
       "    <tr style=\"text-align: right;\">\n",
       "      <th></th>\n",
       "      <th>Unnamed: 0</th>\n",
       "      <th>label</th>\n",
       "      <th>text</th>\n",
       "      <th>word_sequences</th>\n",
       "    </tr>\n",
       "  </thead>\n",
       "  <tbody>\n",
       "    <tr>\n",
       "      <th>0</th>\n",
       "      <td>0</td>\n",
       "      <td>1</td>\n",
       "      <td>ounce feather bowl hummingbird opec moment ala...</td>\n",
       "      <td>['ounce feather', 'feather bowl', 'bowl hummin...</td>\n",
       "    </tr>\n",
       "    <tr>\n",
       "      <th>1</th>\n",
       "      <td>1</td>\n",
       "      <td>1</td>\n",
       "      <td>wulvob get medircations online qnb ikud viagra...</td>\n",
       "      <td>['wulvob get', 'get medircations', 'medircatio...</td>\n",
       "    </tr>\n",
       "    <tr>\n",
       "      <th>2</th>\n",
       "      <td>2</td>\n",
       "      <td>0</td>\n",
       "      <td>computer connection cnn com wednesday may pm e...</td>\n",
       "      <td>['computer connection', 'connection cnn', 'cnn...</td>\n",
       "    </tr>\n",
       "    <tr>\n",
       "      <th>3</th>\n",
       "      <td>3</td>\n",
       "      <td>1</td>\n",
       "      <td>university degree obtain prosperous future mon...</td>\n",
       "      <td>['university degree', 'degree obtain', 'obtain...</td>\n",
       "    </tr>\n",
       "    <tr>\n",
       "      <th>4</th>\n",
       "      <td>4</td>\n",
       "      <td>0</td>\n",
       "      <td>thanks answers guys know checked rsync manual ...</td>\n",
       "      <td>['thanks answers', 'answers guys', 'guys know'...</td>\n",
       "    </tr>\n",
       "  </tbody>\n",
       "</table>\n",
       "</div>\n",
       "    <div class=\"colab-df-buttons\">\n",
       "\n",
       "  <div class=\"colab-df-container\">\n",
       "    <button class=\"colab-df-convert\" onclick=\"convertToInteractive('df-047f320e-1d7c-4bc6-b9f3-34bd5d9317c9')\"\n",
       "            title=\"Convert this dataframe to an interactive table.\"\n",
       "            style=\"display:none;\">\n",
       "\n",
       "  <svg xmlns=\"http://www.w3.org/2000/svg\" height=\"24px\" viewBox=\"0 -960 960 960\">\n",
       "    <path d=\"M120-120v-720h720v720H120Zm60-500h600v-160H180v160Zm220 220h160v-160H400v160Zm0 220h160v-160H400v160ZM180-400h160v-160H180v160Zm440 0h160v-160H620v160ZM180-180h160v-160H180v160Zm440 0h160v-160H620v160Z\"/>\n",
       "  </svg>\n",
       "    </button>\n",
       "\n",
       "  <style>\n",
       "    .colab-df-container {\n",
       "      display:flex;\n",
       "      gap: 12px;\n",
       "    }\n",
       "\n",
       "    .colab-df-convert {\n",
       "      background-color: #E8F0FE;\n",
       "      border: none;\n",
       "      border-radius: 50%;\n",
       "      cursor: pointer;\n",
       "      display: none;\n",
       "      fill: #1967D2;\n",
       "      height: 32px;\n",
       "      padding: 0 0 0 0;\n",
       "      width: 32px;\n",
       "    }\n",
       "\n",
       "    .colab-df-convert:hover {\n",
       "      background-color: #E2EBFA;\n",
       "      box-shadow: 0px 1px 2px rgba(60, 64, 67, 0.3), 0px 1px 3px 1px rgba(60, 64, 67, 0.15);\n",
       "      fill: #174EA6;\n",
       "    }\n",
       "\n",
       "    .colab-df-buttons div {\n",
       "      margin-bottom: 4px;\n",
       "    }\n",
       "\n",
       "    [theme=dark] .colab-df-convert {\n",
       "      background-color: #3B4455;\n",
       "      fill: #D2E3FC;\n",
       "    }\n",
       "\n",
       "    [theme=dark] .colab-df-convert:hover {\n",
       "      background-color: #434B5C;\n",
       "      box-shadow: 0px 1px 3px 1px rgba(0, 0, 0, 0.15);\n",
       "      filter: drop-shadow(0px 1px 2px rgba(0, 0, 0, 0.3));\n",
       "      fill: #FFFFFF;\n",
       "    }\n",
       "  </style>\n",
       "\n",
       "    <script>\n",
       "      const buttonEl =\n",
       "        document.querySelector('#df-047f320e-1d7c-4bc6-b9f3-34bd5d9317c9 button.colab-df-convert');\n",
       "      buttonEl.style.display =\n",
       "        google.colab.kernel.accessAllowed ? 'block' : 'none';\n",
       "\n",
       "      async function convertToInteractive(key) {\n",
       "        const element = document.querySelector('#df-047f320e-1d7c-4bc6-b9f3-34bd5d9317c9');\n",
       "        const dataTable =\n",
       "          await google.colab.kernel.invokeFunction('convertToInteractive',\n",
       "                                                    [key], {});\n",
       "        if (!dataTable) return;\n",
       "\n",
       "        const docLinkHtml = 'Like what you see? Visit the ' +\n",
       "          '<a target=\"_blank\" href=https://colab.research.google.com/notebooks/data_table.ipynb>data table notebook</a>'\n",
       "          + ' to learn more about interactive tables.';\n",
       "        element.innerHTML = '';\n",
       "        dataTable['output_type'] = 'display_data';\n",
       "        await google.colab.output.renderOutput(dataTable, element);\n",
       "        const docLink = document.createElement('div');\n",
       "        docLink.innerHTML = docLinkHtml;\n",
       "        element.appendChild(docLink);\n",
       "      }\n",
       "    </script>\n",
       "  </div>\n",
       "\n",
       "\n",
       "<div id=\"df-d2857ff6-ff5b-473c-9a96-aa7c13707323\">\n",
       "  <button class=\"colab-df-quickchart\" onclick=\"quickchart('df-d2857ff6-ff5b-473c-9a96-aa7c13707323')\"\n",
       "            title=\"Suggest charts\"\n",
       "            style=\"display:none;\">\n",
       "\n",
       "<svg xmlns=\"http://www.w3.org/2000/svg\" height=\"24px\"viewBox=\"0 0 24 24\"\n",
       "     width=\"24px\">\n",
       "    <g>\n",
       "        <path d=\"M19 3H5c-1.1 0-2 .9-2 2v14c0 1.1.9 2 2 2h14c1.1 0 2-.9 2-2V5c0-1.1-.9-2-2-2zM9 17H7v-7h2v7zm4 0h-2V7h2v10zm4 0h-2v-4h2v4z\"/>\n",
       "    </g>\n",
       "</svg>\n",
       "  </button>\n",
       "\n",
       "<style>\n",
       "  .colab-df-quickchart {\n",
       "      --bg-color: #E8F0FE;\n",
       "      --fill-color: #1967D2;\n",
       "      --hover-bg-color: #E2EBFA;\n",
       "      --hover-fill-color: #174EA6;\n",
       "      --disabled-fill-color: #AAA;\n",
       "      --disabled-bg-color: #DDD;\n",
       "  }\n",
       "\n",
       "  [theme=dark] .colab-df-quickchart {\n",
       "      --bg-color: #3B4455;\n",
       "      --fill-color: #D2E3FC;\n",
       "      --hover-bg-color: #434B5C;\n",
       "      --hover-fill-color: #FFFFFF;\n",
       "      --disabled-bg-color: #3B4455;\n",
       "      --disabled-fill-color: #666;\n",
       "  }\n",
       "\n",
       "  .colab-df-quickchart {\n",
       "    background-color: var(--bg-color);\n",
       "    border: none;\n",
       "    border-radius: 50%;\n",
       "    cursor: pointer;\n",
       "    display: none;\n",
       "    fill: var(--fill-color);\n",
       "    height: 32px;\n",
       "    padding: 0;\n",
       "    width: 32px;\n",
       "  }\n",
       "\n",
       "  .colab-df-quickchart:hover {\n",
       "    background-color: var(--hover-bg-color);\n",
       "    box-shadow: 0 1px 2px rgba(60, 64, 67, 0.3), 0 1px 3px 1px rgba(60, 64, 67, 0.15);\n",
       "    fill: var(--button-hover-fill-color);\n",
       "  }\n",
       "\n",
       "  .colab-df-quickchart-complete:disabled,\n",
       "  .colab-df-quickchart-complete:disabled:hover {\n",
       "    background-color: var(--disabled-bg-color);\n",
       "    fill: var(--disabled-fill-color);\n",
       "    box-shadow: none;\n",
       "  }\n",
       "\n",
       "  .colab-df-spinner {\n",
       "    border: 2px solid var(--fill-color);\n",
       "    border-color: transparent;\n",
       "    border-bottom-color: var(--fill-color);\n",
       "    animation:\n",
       "      spin 1s steps(1) infinite;\n",
       "  }\n",
       "\n",
       "  @keyframes spin {\n",
       "    0% {\n",
       "      border-color: transparent;\n",
       "      border-bottom-color: var(--fill-color);\n",
       "      border-left-color: var(--fill-color);\n",
       "    }\n",
       "    20% {\n",
       "      border-color: transparent;\n",
       "      border-left-color: var(--fill-color);\n",
       "      border-top-color: var(--fill-color);\n",
       "    }\n",
       "    30% {\n",
       "      border-color: transparent;\n",
       "      border-left-color: var(--fill-color);\n",
       "      border-top-color: var(--fill-color);\n",
       "      border-right-color: var(--fill-color);\n",
       "    }\n",
       "    40% {\n",
       "      border-color: transparent;\n",
       "      border-right-color: var(--fill-color);\n",
       "      border-top-color: var(--fill-color);\n",
       "    }\n",
       "    60% {\n",
       "      border-color: transparent;\n",
       "      border-right-color: var(--fill-color);\n",
       "    }\n",
       "    80% {\n",
       "      border-color: transparent;\n",
       "      border-right-color: var(--fill-color);\n",
       "      border-bottom-color: var(--fill-color);\n",
       "    }\n",
       "    90% {\n",
       "      border-color: transparent;\n",
       "      border-bottom-color: var(--fill-color);\n",
       "    }\n",
       "  }\n",
       "</style>\n",
       "\n",
       "  <script>\n",
       "    async function quickchart(key) {\n",
       "      const quickchartButtonEl =\n",
       "        document.querySelector('#' + key + ' button');\n",
       "      quickchartButtonEl.disabled = true;  // To prevent multiple clicks.\n",
       "      quickchartButtonEl.classList.add('colab-df-spinner');\n",
       "      try {\n",
       "        const charts = await google.colab.kernel.invokeFunction(\n",
       "            'suggestCharts', [key], {});\n",
       "      } catch (error) {\n",
       "        console.error('Error during call to suggestCharts:', error);\n",
       "      }\n",
       "      quickchartButtonEl.classList.remove('colab-df-spinner');\n",
       "      quickchartButtonEl.classList.add('colab-df-quickchart-complete');\n",
       "    }\n",
       "    (() => {\n",
       "      let quickchartButtonEl =\n",
       "        document.querySelector('#df-d2857ff6-ff5b-473c-9a96-aa7c13707323 button');\n",
       "      quickchartButtonEl.style.display =\n",
       "        google.colab.kernel.accessAllowed ? 'block' : 'none';\n",
       "    })();\n",
       "  </script>\n",
       "</div>\n",
       "    </div>\n",
       "  </div>\n"
      ],
      "text/plain": [
       "   Unnamed: 0  label                                               text  \\\n",
       "0           0      1  ounce feather bowl hummingbird opec moment ala...   \n",
       "1           1      1  wulvob get medircations online qnb ikud viagra...   \n",
       "2           2      0  computer connection cnn com wednesday may pm e...   \n",
       "3           3      1  university degree obtain prosperous future mon...   \n",
       "4           4      0  thanks answers guys know checked rsync manual ...   \n",
       "\n",
       "                                      word_sequences  \n",
       "0  ['ounce feather', 'feather bowl', 'bowl hummin...  \n",
       "1  ['wulvob get', 'get medircations', 'medircatio...  \n",
       "2  ['computer connection', 'connection cnn', 'cnn...  \n",
       "3  ['university degree', 'degree obtain', 'obtain...  \n",
       "4  ['thanks answers', 'answers guys', 'guys know'...  "
      ]
     },
     "execution_count": 2,
     "metadata": {},
     "output_type": "execute_result"
    }
   ],
   "source": [
    "#Load data & print samples\n",
    "df = pd.read_csv('cleaned_data.csv',encoding='latin-1')\n",
    "df.head()"
   ]
  },
  {
   "cell_type": "code",
   "execution_count": 3,
   "id": "9a1e9d6e",
   "metadata": {
    "id": "9a1e9d6e"
   },
   "outputs": [],
   "source": [
    "df.drop('Unnamed: 0', axis =1, inplace =True)\n",
    "df.drop('word_sequences', axis =1, inplace =True)"
   ]
  },
  {
   "cell_type": "code",
   "execution_count": 4,
   "id": "Vf2P0Wnfk6OZ",
   "metadata": {
    "id": "Vf2P0Wnfk6OZ"
   },
   "outputs": [],
   "source": [
    "df['text'] = df['text'].fillna('')"
   ]
  },
  {
   "cell_type": "code",
   "execution_count": null,
   "id": "00a07842",
   "metadata": {},
   "outputs": [],
   "source": [
    "vectorizer = CountVectorizer()\n",
    "text = vectorizer.fit_transform(df['text'])"
   ]
  },
  {
   "cell_type": "code",
   "execution_count": 5,
   "id": "086e9e27",
   "metadata": {
    "colab": {
     "base_uri": "https://localhost:8080/"
    },
    "id": "086e9e27",
    "outputId": "1b527115-0104-4cbd-980d-21ea24380233"
   },
   "outputs": [
    {
     "data": {
      "text/plain": [
       "<2969x44777 sparse matrix of type '<class 'numpy.int64'>'\n",
       "\twith 276646 stored elements in Compressed Sparse Row format>"
      ]
     },
     "execution_count": 5,
     "metadata": {},
     "output_type": "execute_result"
    }
   ],
   "source": [
    "x_train, x_test, y_train, y_test = train_test_split(text, df['label'], test_size=0.30, random_state=100)\n",
    "text\n"
   ]
  },
  {
   "cell_type": "code",
   "execution_count": null,
   "id": "47279d2f",
   "metadata": {},
   "outputs": [],
   "source": [
    "multinomial_nb_model = MultinomialNB()\n",
    "multinomial_nb_model.fit(x_train, y_train) "
   ]
  },
  {
   "cell_type": "code",
   "execution_count": null,
   "id": "7934ca95",
   "metadata": {},
   "outputs": [],
   "source": [
    "prediction = multinomial_nb_model.predict(x_test)"
   ]
  },
  {
   "cell_type": "code",
   "execution_count": 8,
   "id": "4240bb54",
   "metadata": {
    "colab": {
     "base_uri": "https://localhost:8080/"
    },
    "id": "4240bb54",
    "outputId": "968539ae-9261-4426-f254-917f6d5a637d"
   },
   "outputs": [
    {
     "name": "stdout",
     "output_type": "stream",
     "text": [
      "Multinomial NB\n",
      "Accuracy score: 0.9708193041526375\n",
      "Precision score: 0.9933035714285714\n",
      "Recall score: 0.9508547008547008\n",
      "F1 score: 0.9716157205240175\n",
      "CPU times: user 24.4 ms, sys: 3.74 ms, total: 28.1 ms\n",
      "Wall time: 42.1 ms\n"
     ]
    }
   ],
   "source": [
    "print(\"Multinomial NB\")\n",
    "print(\"Accuracy score: {}\". format(accuracy_score(y_test, prediction)) )\n",
    "print(\"Precision score: {}\". format(precision_score(y_test, prediction)) )\n",
    "print(\"Recall score: {}\". format(recall_score(y_test, prediction)))\n",
    "print(\"F1 score: {}\". format(f1_score(y_test, prediction)))"
   ]
  },
  {
   "cell_type": "code",
   "execution_count": 9,
   "id": "ILAWY36UpIh1",
   "metadata": {
    "colab": {
     "base_uri": "https://localhost:8080/"
    },
    "id": "ILAWY36UpIh1",
    "outputId": "67e7791b-0e73-4366-8573-085335071b56"
   },
   "outputs": [
    {
     "name": "stdout",
     "output_type": "stream",
     "text": [
      "Predicted Class: 1\n",
      "Probability of Class 1: 0.9999999999597549\n"
     ]
    }
   ],
   "source": [
    "def predict_email_class(email_text, model, vectorizer):\n",
    "    # Preprocess the email text (convert to iterable form for the model)\n",
    "    email_text_transformed = vectorizer.transform([email_text])\n",
    "\n",
    "    # Predict the class and probability\n",
    "    predicted_class = model.predict(email_text_transformed)[0]\n",
    "    class_probabilities = model.predict_proba(email_text_transformed)\n",
    "\n",
    "    # Assuming binary classification (0 or 1)\n",
    "    if model.classes_[0] == 0:\n",
    "        prob_of_class_0 = class_probabilities[0][0]\n",
    "        prob_of_class_1 = class_probabilities[0][1]\n",
    "    else:\n",
    "        prob_of_class_0 = class_probabilities[0][1]\n",
    "        prob_of_class_1 = class_probabilities[0][0]\n",
    "\n",
    "    return predicted_class, prob_of_class_1\n",
    "\n",
    "# Example usage:\n",
    "email_text = \"congratulations. you've been selected for an exclusive offer on our premium products. act now to claim your discount of up to 50 off. this limited-time deal won't last long.click the link below to redeem your offer: [link to a harmless webpage] don't miss out on this incredible opportunity! act fast before it's gone.\"\n",
    "predicted_class, probability = predict_email_class(email_text, multinomial_nb_model, vectorizer)\n",
    "print(\"Predicted Class:\", predicted_class)\n",
    "print(\"Probability of Class 1:\", probability)"
   ]
  },
  {
   "cell_type": "code",
   "execution_count": 11,
   "id": "Ev84gym_phpm",
   "metadata": {
    "colab": {
     "base_uri": "https://localhost:8080/"
    },
    "id": "Ev84gym_phpm",
    "outputId": "83a911a1-f738-4b0a-cebd-1a2f93b08e2d"
   },
   "outputs": [
    {
     "name": "stdout",
     "output_type": "stream",
     "text": [
      "Predicted Class: 1\n",
      "Probability of Class 1: 0.9999999780607143\n"
     ]
    }
   ],
   "source": [
    "# Example usage:\n",
    "email_text = \"looking for great deals we've got you covered! you're invited to unlock exclusive savings on our top products. claim your discount now and save up to 60 off. hurry, this offer won't last forever. click the link below to start saving:don't wait—act fast to seize these incredible deals\"\n",
    "predicted_class, probability = predict_email_class(email_text, multinomial_nb_model, vectorizer)\n",
    "print(\"Predicted Class:\", predicted_class)\n",
    "print(\"Probability of Class 1:\", probability)"
   ]
  },
  {
   "cell_type": "code",
   "execution_count": null,
   "id": "oGJ-FpnAwEla",
   "metadata": {
    "id": "oGJ-FpnAwEla"
   },
   "outputs": [],
   "source": []
  }
 ],
 "metadata": {
  "colab": {
   "provenance": []
  },
  "kernelspec": {
   "display_name": "Python 3 (ipykernel)",
   "language": "python",
   "name": "python3"
  },
  "language_info": {
   "codemirror_mode": {
    "name": "ipython",
    "version": 3
   },
   "file_extension": ".py",
   "mimetype": "text/x-python",
   "name": "python",
   "nbconvert_exporter": "python",
   "pygments_lexer": "ipython3",
   "version": "3.10.10"
  }
 },
 "nbformat": 4,
 "nbformat_minor": 5
}
