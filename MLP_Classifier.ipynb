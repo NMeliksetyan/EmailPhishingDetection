{
 "cells": [
  {
   "cell_type": "markdown",
   "id": "c34e69f9",
   "metadata": {
    "id": "c34e69f9"
   },
   "source": [
    "<h1 style=\"color:#032652 ; font-family:'Times New Roman' \"> Email Phishing Detection and Classification </h1>"
   ]
  },
  {
   "cell_type": "markdown",
   "id": "10350bce",
   "metadata": {
    "id": "10350bce"
   },
   "source": [
    "<h2 style=\"background:#F6FAFF; color:#053573 ; font-family:'Times New Roman'\"> <br>  Multi-layer Perceptron classifier<br>\n",
    "</h2>"
   ]
  },
  {
   "cell_type": "markdown",
   "id": "de9c76fc",
   "metadata": {
    "id": "de9c76fc"
   },
   "source": [
    "> <p style=\" color:#032652 ; font-family:'Times New Roman'; font-size: 18px ;text-align: justify \"> Loading libraries and data </p>"
   ]
  },
  {
   "cell_type": "code",
   "execution_count": 1,
   "id": "57e53b31",
   "metadata": {
    "id": "57e53b31"
   },
   "outputs": [],
   "source": [
    "# Data Analysis and Manipulation libraries\n",
    "import numpy as np\n",
    "import pandas as pd\n",
    "\n",
    "# Data Visualization libraries\n",
    "import matplotlib.pyplot as plt\n",
    "import seaborn as sns\n",
    "\n",
    "# Miscellaneous libraries\n",
    "import warnings\n",
    "warnings.filterwarnings(\"ignore\")\n",
    "%matplotlib inline\n",
    "\n",
    "# Feature Engineering\n",
    "from keras.preprocessing.text import Tokenizer\n",
    "from keras.utils import pad_sequences\n",
    "from sklearn.preprocessing import LabelEncoder\n",
    "\n",
    "# Modeling\n",
    "from sklearn.model_selection import train_test_split\n",
    "from keras.models import Sequential\n",
    "import tensorflow as tf\n",
    "from sklearn.neural_network import MLPClassifier\n",
    "from sklearn.metrics import accuracy_score, precision_score, recall_score, f1_score\n",
    "from sklearn.feature_extraction.text import CountVectorizer"
   ]
  },
  {
   "cell_type": "code",
   "execution_count": 2,
   "id": "cea7a29b",
   "metadata": {
    "colab": {
     "base_uri": "https://localhost:8080/",
     "height": 204
    },
    "id": "cea7a29b",
    "outputId": "af164a58-b431-47b2-ce5e-0fcad5300a6a"
   },
   "outputs": [
    {
     "data": {
      "application/vnd.google.colaboratory.intrinsic+json": {
       "summary": "{\n  \"name\": \"df\",\n  \"rows\": 10919,\n  \"fields\": [\n    {\n      \"column\": \"Unnamed: 0\",\n      \"properties\": {\n        \"dtype\": \"number\",\n        \"std\": 3152,\n        \"min\": 0,\n        \"max\": 10918,\n        \"num_unique_values\": 10919,\n        \"samples\": [\n          10804,\n          4759,\n          3842\n        ],\n        \"semantic_type\": \"\",\n        \"description\": \"\"\n      }\n    },\n    {\n      \"column\": \"label\",\n      \"properties\": {\n        \"dtype\": \"number\",\n        \"std\": 0,\n        \"min\": 0,\n        \"max\": 1,\n        \"num_unique_values\": 2,\n        \"samples\": [\n          0,\n          1\n        ],\n        \"semantic_type\": \"\",\n        \"description\": \"\"\n      }\n    },\n    {\n      \"column\": \"text\",\n      \"properties\": {\n        \"dtype\": \"string\",\n        \"num_unique_values\": 10755,\n        \"samples\": [\n          \"jonathan wrote sorry banal question favourite keys stage rsync rsync verbose recursive links hard links times filter tmp delete delay updates source url destination log file olleg samoylov unsubscribe email debian mirrors request lists debian org subject unsubscribe trouble contact listmaster lists debian org\",\n          \"assaggi marco berrettini chi tha chiamato pochi mobili segnati dallusura delle stagioni dal passaggio silenzioso di occasionali clienti eppure salire il sangue che deve scendere porca trota quella si addormenta qui ci vuole un aiutino ma allora non hai capito un cazzo portami casa tua sbattimi\"\n        ],\n        \"semantic_type\": \"\",\n        \"description\": \"\"\n      }\n    },\n    {\n      \"column\": \"word_sequences\",\n      \"properties\": {\n        \"dtype\": \"string\",\n        \"num_unique_values\": 10739,\n        \"samples\": [\n          \"['looking ge', 'ge wireless', 'wireless home', 'home alarm', 'alarm limited', 'limited promotional', 'promotional packages', 'packages available', 'available area', 'area click', 'click see', 'see home', 'home qualfies', 'qualfies message', 'message sent', 'sent producttestpanel', 'producttestpanel speedy', 'speedy uwaterloo', 'uwaterloo ca', 'ca valued', 'valued hfo', 'hfo subscriber', 'subscriber since', 'since adf', 'adf part', 'part exclusive', 'exclusive list', 'list rewards', 'rewards program', 'program rewards', 'rewards simply', 'simply free', 'free hasslefreeoffers', 'hasslefreeoffers list', 'list subscriber', 'subscriber week', 'week remain', 'remain active', 'active ll', 'll automatically', 'automatically receive', 'receive additional', 'additional entry', 'entry quarterly', 'quarterly cash', 'cash sweepstakes', 'sweepstakes well', 'well great', 'great drawings', 'drawings details', 'details congratulations', 'congratulations winners', 'winners rachel', 'rachel south', 'south pittsburg', 'pittsburg tn', 'tn margaret', 'margaret girrad', 'girrad oh', 'oh hasslefreeoffers', 'hasslefreeoffers network', 'network main', 'main street', 'street kirkland', 'kirkland wa', 'wa privacy', 'privacy policy', 'policy longer', 'longer interested', 'interested free', 'free list', 'list rewards', 'rewards program', 'program please', 'please follow', 'follow link', 'link please', 'please cancel', 'cancel free', 'free rewards', 'rewards program', 'program subscription', 'subscription mg', 'mg id', 'id copyright', 'copyright hfo', 'hfo network', 'network current', 'current powered', 'powered emaillaunch']\",\n          \"['case really', 'really want', 'want use', 'use apply', 'apply variety', 'variety another', 'another one', 'one sapply', 'sapply fac', 'fac function', 'function ifelse', 'ifelse test', 'test van', 'van campenhout', 'campenhout bjorn', 'bjorn hi', 'hi sorry', 'sorry basic', 'basic question', 'question think', 'think know', 'know use', 'use apply', 'apply really', 'really confusing', 'confusing want', 'want create', 'create matrix', 'matrix comparing', 'comparing two', 'two vectors', 'vectors eg', 'eg test', 'test seq', 'seq fac', 'fac want', 'want end', 'end matrix', 'matrix boolean', 'boolean tests', 'tests test']\"\n        ],\n        \"semantic_type\": \"\",\n        \"description\": \"\"\n      }\n    }\n  ]\n}",
       "type": "dataframe",
       "variable_name": "df"
      },
      "text/html": [
       "\n",
       "  <div id=\"df-dec6cf64-f2b0-4eec-9a56-e6918bcf3011\" class=\"colab-df-container\">\n",
       "    <div>\n",
       "<style scoped>\n",
       "    .dataframe tbody tr th:only-of-type {\n",
       "        vertical-align: middle;\n",
       "    }\n",
       "\n",
       "    .dataframe tbody tr th {\n",
       "        vertical-align: top;\n",
       "    }\n",
       "\n",
       "    .dataframe thead th {\n",
       "        text-align: right;\n",
       "    }\n",
       "</style>\n",
       "<table border=\"1\" class=\"dataframe\">\n",
       "  <thead>\n",
       "    <tr style=\"text-align: right;\">\n",
       "      <th></th>\n",
       "      <th>Unnamed: 0</th>\n",
       "      <th>label</th>\n",
       "      <th>text</th>\n",
       "      <th>word_sequences</th>\n",
       "    </tr>\n",
       "  </thead>\n",
       "  <tbody>\n",
       "    <tr>\n",
       "      <th>0</th>\n",
       "      <td>0</td>\n",
       "      <td>1</td>\n",
       "      <td>ounce feather bowl hummingbird opec moment ala...</td>\n",
       "      <td>['ounce feather', 'feather bowl', 'bowl hummin...</td>\n",
       "    </tr>\n",
       "    <tr>\n",
       "      <th>1</th>\n",
       "      <td>1</td>\n",
       "      <td>1</td>\n",
       "      <td>wulvob get medircations online qnb ikud viagra...</td>\n",
       "      <td>['wulvob get', 'get medircations', 'medircatio...</td>\n",
       "    </tr>\n",
       "    <tr>\n",
       "      <th>2</th>\n",
       "      <td>2</td>\n",
       "      <td>0</td>\n",
       "      <td>computer connection cnn com wednesday may pm e...</td>\n",
       "      <td>['computer connection', 'connection cnn', 'cnn...</td>\n",
       "    </tr>\n",
       "    <tr>\n",
       "      <th>3</th>\n",
       "      <td>3</td>\n",
       "      <td>1</td>\n",
       "      <td>university degree obtain prosperous future mon...</td>\n",
       "      <td>['university degree', 'degree obtain', 'obtain...</td>\n",
       "    </tr>\n",
       "    <tr>\n",
       "      <th>4</th>\n",
       "      <td>4</td>\n",
       "      <td>0</td>\n",
       "      <td>thanks answers guys know checked rsync manual ...</td>\n",
       "      <td>['thanks answers', 'answers guys', 'guys know'...</td>\n",
       "    </tr>\n",
       "  </tbody>\n",
       "</table>\n",
       "</div>\n",
       "    <div class=\"colab-df-buttons\">\n",
       "\n",
       "  <div class=\"colab-df-container\">\n",
       "    <button class=\"colab-df-convert\" onclick=\"convertToInteractive('df-dec6cf64-f2b0-4eec-9a56-e6918bcf3011')\"\n",
       "            title=\"Convert this dataframe to an interactive table.\"\n",
       "            style=\"display:none;\">\n",
       "\n",
       "  <svg xmlns=\"http://www.w3.org/2000/svg\" height=\"24px\" viewBox=\"0 -960 960 960\">\n",
       "    <path d=\"M120-120v-720h720v720H120Zm60-500h600v-160H180v160Zm220 220h160v-160H400v160Zm0 220h160v-160H400v160ZM180-400h160v-160H180v160Zm440 0h160v-160H620v160ZM180-180h160v-160H180v160Zm440 0h160v-160H620v160Z\"/>\n",
       "  </svg>\n",
       "    </button>\n",
       "\n",
       "  <style>\n",
       "    .colab-df-container {\n",
       "      display:flex;\n",
       "      gap: 12px;\n",
       "    }\n",
       "\n",
       "    .colab-df-convert {\n",
       "      background-color: #E8F0FE;\n",
       "      border: none;\n",
       "      border-radius: 50%;\n",
       "      cursor: pointer;\n",
       "      display: none;\n",
       "      fill: #1967D2;\n",
       "      height: 32px;\n",
       "      padding: 0 0 0 0;\n",
       "      width: 32px;\n",
       "    }\n",
       "\n",
       "    .colab-df-convert:hover {\n",
       "      background-color: #E2EBFA;\n",
       "      box-shadow: 0px 1px 2px rgba(60, 64, 67, 0.3), 0px 1px 3px 1px rgba(60, 64, 67, 0.15);\n",
       "      fill: #174EA6;\n",
       "    }\n",
       "\n",
       "    .colab-df-buttons div {\n",
       "      margin-bottom: 4px;\n",
       "    }\n",
       "\n",
       "    [theme=dark] .colab-df-convert {\n",
       "      background-color: #3B4455;\n",
       "      fill: #D2E3FC;\n",
       "    }\n",
       "\n",
       "    [theme=dark] .colab-df-convert:hover {\n",
       "      background-color: #434B5C;\n",
       "      box-shadow: 0px 1px 3px 1px rgba(0, 0, 0, 0.15);\n",
       "      filter: drop-shadow(0px 1px 2px rgba(0, 0, 0, 0.3));\n",
       "      fill: #FFFFFF;\n",
       "    }\n",
       "  </style>\n",
       "\n",
       "    <script>\n",
       "      const buttonEl =\n",
       "        document.querySelector('#df-dec6cf64-f2b0-4eec-9a56-e6918bcf3011 button.colab-df-convert');\n",
       "      buttonEl.style.display =\n",
       "        google.colab.kernel.accessAllowed ? 'block' : 'none';\n",
       "\n",
       "      async function convertToInteractive(key) {\n",
       "        const element = document.querySelector('#df-dec6cf64-f2b0-4eec-9a56-e6918bcf3011');\n",
       "        const dataTable =\n",
       "          await google.colab.kernel.invokeFunction('convertToInteractive',\n",
       "                                                    [key], {});\n",
       "        if (!dataTable) return;\n",
       "\n",
       "        const docLinkHtml = 'Like what you see? Visit the ' +\n",
       "          '<a target=\"_blank\" href=https://colab.research.google.com/notebooks/data_table.ipynb>data table notebook</a>'\n",
       "          + ' to learn more about interactive tables.';\n",
       "        element.innerHTML = '';\n",
       "        dataTable['output_type'] = 'display_data';\n",
       "        await google.colab.output.renderOutput(dataTable, element);\n",
       "        const docLink = document.createElement('div');\n",
       "        docLink.innerHTML = docLinkHtml;\n",
       "        element.appendChild(docLink);\n",
       "      }\n",
       "    </script>\n",
       "  </div>\n",
       "\n",
       "\n",
       "<div id=\"df-56191bcd-25bd-401f-a672-a7e7f749d2c4\">\n",
       "  <button class=\"colab-df-quickchart\" onclick=\"quickchart('df-56191bcd-25bd-401f-a672-a7e7f749d2c4')\"\n",
       "            title=\"Suggest charts\"\n",
       "            style=\"display:none;\">\n",
       "\n",
       "<svg xmlns=\"http://www.w3.org/2000/svg\" height=\"24px\"viewBox=\"0 0 24 24\"\n",
       "     width=\"24px\">\n",
       "    <g>\n",
       "        <path d=\"M19 3H5c-1.1 0-2 .9-2 2v14c0 1.1.9 2 2 2h14c1.1 0 2-.9 2-2V5c0-1.1-.9-2-2-2zM9 17H7v-7h2v7zm4 0h-2V7h2v10zm4 0h-2v-4h2v4z\"/>\n",
       "    </g>\n",
       "</svg>\n",
       "  </button>\n",
       "\n",
       "<style>\n",
       "  .colab-df-quickchart {\n",
       "      --bg-color: #E8F0FE;\n",
       "      --fill-color: #1967D2;\n",
       "      --hover-bg-color: #E2EBFA;\n",
       "      --hover-fill-color: #174EA6;\n",
       "      --disabled-fill-color: #AAA;\n",
       "      --disabled-bg-color: #DDD;\n",
       "  }\n",
       "\n",
       "  [theme=dark] .colab-df-quickchart {\n",
       "      --bg-color: #3B4455;\n",
       "      --fill-color: #D2E3FC;\n",
       "      --hover-bg-color: #434B5C;\n",
       "      --hover-fill-color: #FFFFFF;\n",
       "      --disabled-bg-color: #3B4455;\n",
       "      --disabled-fill-color: #666;\n",
       "  }\n",
       "\n",
       "  .colab-df-quickchart {\n",
       "    background-color: var(--bg-color);\n",
       "    border: none;\n",
       "    border-radius: 50%;\n",
       "    cursor: pointer;\n",
       "    display: none;\n",
       "    fill: var(--fill-color);\n",
       "    height: 32px;\n",
       "    padding: 0;\n",
       "    width: 32px;\n",
       "  }\n",
       "\n",
       "  .colab-df-quickchart:hover {\n",
       "    background-color: var(--hover-bg-color);\n",
       "    box-shadow: 0 1px 2px rgba(60, 64, 67, 0.3), 0 1px 3px 1px rgba(60, 64, 67, 0.15);\n",
       "    fill: var(--button-hover-fill-color);\n",
       "  }\n",
       "\n",
       "  .colab-df-quickchart-complete:disabled,\n",
       "  .colab-df-quickchart-complete:disabled:hover {\n",
       "    background-color: var(--disabled-bg-color);\n",
       "    fill: var(--disabled-fill-color);\n",
       "    box-shadow: none;\n",
       "  }\n",
       "\n",
       "  .colab-df-spinner {\n",
       "    border: 2px solid var(--fill-color);\n",
       "    border-color: transparent;\n",
       "    border-bottom-color: var(--fill-color);\n",
       "    animation:\n",
       "      spin 1s steps(1) infinite;\n",
       "  }\n",
       "\n",
       "  @keyframes spin {\n",
       "    0% {\n",
       "      border-color: transparent;\n",
       "      border-bottom-color: var(--fill-color);\n",
       "      border-left-color: var(--fill-color);\n",
       "    }\n",
       "    20% {\n",
       "      border-color: transparent;\n",
       "      border-left-color: var(--fill-color);\n",
       "      border-top-color: var(--fill-color);\n",
       "    }\n",
       "    30% {\n",
       "      border-color: transparent;\n",
       "      border-left-color: var(--fill-color);\n",
       "      border-top-color: var(--fill-color);\n",
       "      border-right-color: var(--fill-color);\n",
       "    }\n",
       "    40% {\n",
       "      border-color: transparent;\n",
       "      border-right-color: var(--fill-color);\n",
       "      border-top-color: var(--fill-color);\n",
       "    }\n",
       "    60% {\n",
       "      border-color: transparent;\n",
       "      border-right-color: var(--fill-color);\n",
       "    }\n",
       "    80% {\n",
       "      border-color: transparent;\n",
       "      border-right-color: var(--fill-color);\n",
       "      border-bottom-color: var(--fill-color);\n",
       "    }\n",
       "    90% {\n",
       "      border-color: transparent;\n",
       "      border-bottom-color: var(--fill-color);\n",
       "    }\n",
       "  }\n",
       "</style>\n",
       "\n",
       "  <script>\n",
       "    async function quickchart(key) {\n",
       "      const quickchartButtonEl =\n",
       "        document.querySelector('#' + key + ' button');\n",
       "      quickchartButtonEl.disabled = true;  // To prevent multiple clicks.\n",
       "      quickchartButtonEl.classList.add('colab-df-spinner');\n",
       "      try {\n",
       "        const charts = await google.colab.kernel.invokeFunction(\n",
       "            'suggestCharts', [key], {});\n",
       "      } catch (error) {\n",
       "        console.error('Error during call to suggestCharts:', error);\n",
       "      }\n",
       "      quickchartButtonEl.classList.remove('colab-df-spinner');\n",
       "      quickchartButtonEl.classList.add('colab-df-quickchart-complete');\n",
       "    }\n",
       "    (() => {\n",
       "      let quickchartButtonEl =\n",
       "        document.querySelector('#df-56191bcd-25bd-401f-a672-a7e7f749d2c4 button');\n",
       "      quickchartButtonEl.style.display =\n",
       "        google.colab.kernel.accessAllowed ? 'block' : 'none';\n",
       "    })();\n",
       "  </script>\n",
       "</div>\n",
       "    </div>\n",
       "  </div>\n"
      ],
      "text/plain": [
       "   Unnamed: 0  label                                               text  \\\n",
       "0           0      1  ounce feather bowl hummingbird opec moment ala...   \n",
       "1           1      1  wulvob get medircations online qnb ikud viagra...   \n",
       "2           2      0  computer connection cnn com wednesday may pm e...   \n",
       "3           3      1  university degree obtain prosperous future mon...   \n",
       "4           4      0  thanks answers guys know checked rsync manual ...   \n",
       "\n",
       "                                      word_sequences  \n",
       "0  ['ounce feather', 'feather bowl', 'bowl hummin...  \n",
       "1  ['wulvob get', 'get medircations', 'medircatio...  \n",
       "2  ['computer connection', 'connection cnn', 'cnn...  \n",
       "3  ['university degree', 'degree obtain', 'obtain...  \n",
       "4  ['thanks answers', 'answers guys', 'guys know'...  "
      ]
     },
     "execution_count": 2,
     "metadata": {},
     "output_type": "execute_result"
    }
   ],
   "source": [
    "#Load data & print samples\n",
    "df = pd.read_csv('cleaned_data.csv',encoding='latin-1')\n",
    "df.head()"
   ]
  },
  {
   "cell_type": "code",
   "execution_count": 3,
   "id": "9a1e9d6e",
   "metadata": {
    "id": "9a1e9d6e"
   },
   "outputs": [],
   "source": [
    "df.drop('Unnamed: 0', axis =1, inplace =True)\n",
    "df.drop('word_sequences', axis =1, inplace =True)"
   ]
  },
  {
   "cell_type": "code",
   "execution_count": 4,
   "id": "Vf2P0Wnfk6OZ",
   "metadata": {
    "id": "Vf2P0Wnfk6OZ"
   },
   "outputs": [],
   "source": [
    "df['text'] = df['text'].fillna('')\n"
   ]
  },
  {
   "cell_type": "code",
   "execution_count": 5,
   "id": "086e9e27",
   "metadata": {
    "colab": {
     "base_uri": "https://localhost:8080/"
    },
    "id": "086e9e27",
    "outputId": "a081cffe-83ff-4a98-ee07-a21f477cc0e1"
   },
   "outputs": [
    {
     "data": {
      "text/plain": [
       "<10919x90201 sparse matrix of type '<class 'numpy.int64'>'\n",
       "\twith 1006496 stored elements in Compressed Sparse Row format>"
      ]
     },
     "execution_count": 5,
     "metadata": {},
     "output_type": "execute_result"
    }
   ],
   "source": [
    "vectorizer = CountVectorizer()\n",
    "text = vectorizer.fit_transform(df['text'])\n"
   ]
  },
  {
   "cell_type": "code",
   "execution_count": null,
   "id": "d639c54d",
   "metadata": {},
   "outputs": [],
   "source": [
    "x_train, x_test, y_train, y_test = train_test_split(text, df['label'], test_size=0.30, random_state=100)\n",
    "text"
   ]
  },
  {
   "cell_type": "code",
   "execution_count": null,
   "id": "aa7bb7de",
   "metadata": {},
   "outputs": [],
   "source": [
    "model = MLPClassifier(hidden_layer_sizes=(100, 50), max_iter=1000)\n",
    "model.fit(x_train, y_train)"
   ]
  },
  {
   "cell_type": "code",
   "execution_count": null,
   "id": "6c2bfffc",
   "metadata": {},
   "outputs": [],
   "source": [
    "prediction = model.predict(x_test)"
   ]
  },
  {
   "cell_type": "code",
   "execution_count": 8,
   "id": "69eda554",
   "metadata": {
    "colab": {
     "base_uri": "https://localhost:8080/"
    },
    "id": "69eda554",
    "outputId": "084dfc2a-3852-4b81-9d94-b3538cc39817"
   },
   "outputs": [
    {
     "name": "stdout",
     "output_type": "stream",
     "text": [
      "MLP Classifier\n",
      "Accuracy score: 0.98\n",
      "Precision score: 0.98\n",
      "Recall score: 0.98\n",
      "F1 score: 0.98\n",
      "CPU times: user 3min 43s, sys: 5min 6s, total: 8min 50s\n",
      "Wall time: 7min 32s\n"
     ]
    }
   ],
   "source": [
    "\n",
    "print(\"MLP Classifier\")\n",
    "print(\"Accuracy score: {:.2f}\".format(accuracy_score(y_test, prediction)))\n",
    "print(\"Precision score: {:.2f}\".format(precision_score(y_test, prediction)))\n",
    "print(\"Recall score: {:.2f}\".format(recall_score(y_test, prediction)))\n",
    "print(\"F1 score: {:.2f}\".format(f1_score(y_test, prediction)))"
   ]
  },
  {
   "cell_type": "code",
   "execution_count": 12,
   "id": "ILAWY36UpIh1",
   "metadata": {
    "colab": {
     "base_uri": "https://localhost:8080/"
    },
    "id": "ILAWY36UpIh1",
    "outputId": "df04374e-0aee-40be-d986-04dc0a1eb0df"
   },
   "outputs": [
    {
     "name": "stdout",
     "output_type": "stream",
     "text": [
      "Predicted Class: 1\n",
      "Probability of Phishing: 99.42672537331607 %\n"
     ]
    }
   ],
   "source": [
    "def predict_email_class(email_text, model, vectorizer):\n",
    "    # Preprocess the email text (convert to iterable form for the model)\n",
    "    email_text_transformed = vectorizer.transform([email_text])\n",
    "\n",
    "    # Predict the class and probability\n",
    "    predicted_class = model.predict(email_text_transformed)[0]\n",
    "    class_probabilities = model.predict_proba(email_text_transformed)\n",
    "\n",
    "    # Assuming binary classification (0 or 1)\n",
    "    if model.classes_[0] == 0:\n",
    "        prob_of_class_0 = class_probabilities[0][0]\n",
    "        prob_of_class_1 = class_probabilities[0][1]\n",
    "    else:\n",
    "        prob_of_class_0 = class_probabilities[0][1]\n",
    "        prob_of_class_1 = class_probabilities[0][0]\n",
    "\n",
    "    return predicted_class, prob_of_class_1\n",
    "\n",
    "# Example usage:\n",
    "email_text = \"congratulations. you've been selected for an exclusive offer on our premium products. act now to claim your discount of up to 50 off. this limited-time deal won't last long.click the link below to redeem your offer: [link to a harmless webpage] don't miss out on this incredible opportunity! act fast before it's gone.\"\n",
    "predicted_class, probability = predict_email_class(email_text, model, vectorizer)\n",
    "print(\"Predicted Class:\", predicted_class)\n",
    "print(\"Probability of Phishing:\", probability*100 , \"%\")"
   ]
  },
  {
   "cell_type": "code",
   "execution_count": 13,
   "id": "Ev84gym_phpm",
   "metadata": {
    "colab": {
     "base_uri": "https://localhost:8080/"
    },
    "id": "Ev84gym_phpm",
    "outputId": "694c315a-491a-47ff-f86c-04f66e4845c1"
   },
   "outputs": [
    {
     "name": "stdout",
     "output_type": "stream",
     "text": [
      "Predicted Class: 1\n",
      "Probability of Phishing: 99.99419079726266 %\n"
     ]
    }
   ],
   "source": [
    "# Example usage:\n",
    "email_text = \"looking for great deals we've got you covered! you're invited to unlock exclusive savings on our top products. claim your discount now and save up to 60 off. hurry, this offer won't last forever. click the link below to start saving:don't wait—act fast to seize these incredible deals\"\n",
    "predicted_class, probability = predict_email_class(email_text, model, vectorizer)\n",
    "print(\"Predicted Class:\", predicted_class)\n",
    "print(\"Probability of Phishing:\", probability*100 , \"%\")"
   ]
  },
  {
   "cell_type": "code",
   "execution_count": null,
   "id": "oe8BXyxXs__g",
   "metadata": {
    "id": "oe8BXyxXs__g"
   },
   "outputs": [],
   "source": []
  },
  {
   "cell_type": "code",
   "execution_count": null,
   "id": "NljXI6s7tAHq",
   "metadata": {
    "id": "NljXI6s7tAHq"
   },
   "outputs": [],
   "source": []
  }
 ],
 "metadata": {
  "colab": {
   "provenance": []
  },
  "kernelspec": {
   "display_name": "Python 3 (ipykernel)",
   "language": "python",
   "name": "python3"
  },
  "language_info": {
   "codemirror_mode": {
    "name": "ipython",
    "version": 3
   },
   "file_extension": ".py",
   "mimetype": "text/x-python",
   "name": "python",
   "nbconvert_exporter": "python",
   "pygments_lexer": "ipython3",
   "version": "3.10.10"
  }
 },
 "nbformat": 4,
 "nbformat_minor": 5
}
